{
 "cells": [
  {
   "cell_type": "code",
   "execution_count": null,
   "metadata": {
    "scrolled": false
   },
   "outputs": [],
   "source": [
    "import scipy.io\n",
    "nLabel, nTrial, nUser, nChannel, nTime  = 4, 40, 32, 40, 8064\n",
    "no_of_users=32\n",
    "def convertData():\n",
    "    print(\"Program started\"+\"\\n\")\n",
    "    fout_data = open('features_raw.csv','w')\n",
    "    fout_labels0 = open('labels_0.csv','w')\n",
    "    fout_labels1 = open('labels_1.csv','w')\n",
    "    fout_labels2 = open('labels_2.csv','w')\n",
    "    fout_labels3 = open('labels_3.csv','w')\n",
    "    for i in range(no_of_users):  #nUser #4, 40, 32, 40, 8064 4 labels, 40 sample for each user, 32 such user, 40 electrode, 8064*40 features\n",
    "        if(i%1 == 0):\n",
    "            if i < 10:\n",
    "                name = '%0*d' % (2,i+1)\n",
    "            else:\n",
    "                name = i+1\n",
    "        fname = \"Users/s\"+str(name)+\".mat\"     \n",
    "        f = open(fname, 'rb')                 #Read the file in Binary mode\n",
    "        x = scipy.io.loadmat(fname)\n",
    "        print(fname)                          \n",
    "    \t\n",
    "        for tr in range(nTrial):\n",
    "            print(tr)\n",
    "            if(tr%1 == 0):\n",
    "                for dat in range(nTime):\n",
    "                    for ch in range(nChannel):\n",
    "                        fout_data.write(str(x['data'][tr][ch][dat]) + \" \");\n",
    "                fout_labels0.write(str(x['labels'][tr][0]) + \"\\n\");\n",
    "                fout_labels1.write(str(x['labels'][tr][1]) + \"\\n\");\n",
    "                fout_labels2.write(str(x['labels'][tr][2]) + \"\\n\");\n",
    "                fout_labels3.write(str(x['labels'][tr][3]) + \"\\n\");\n",
    "                fout_data.write(\"\\n\");\n",
    "    fout_labels0.close()\n",
    "    fout_labels1.close()\n",
    "    fout_labels2.close()\n",
    "    fout_labels3.close()\n",
    "    fout_data.close()\n",
    "    print(\"\\n\"+\"Print Successful\")\n",
    "\n",
    "if __name__ == '__main__':\n",
    "    convertData()"
   ]
  },
  {
   "cell_type": "code",
   "execution_count": null,
   "metadata": {},
   "outputs": [],
   "source": []
  },
  {
   "cell_type": "code",
   "execution_count": null,
   "metadata": {},
   "outputs": [],
   "source": []
  },
  {
   "cell_type": "code",
   "execution_count": null,
   "metadata": {},
   "outputs": [],
   "source": []
  },
  {
   "cell_type": "code",
   "execution_count": null,
   "metadata": {},
   "outputs": [],
   "source": []
  },
  {
   "cell_type": "code",
   "execution_count": null,
   "metadata": {},
   "outputs": [],
   "source": []
  },
  {
   "cell_type": "code",
   "execution_count": null,
   "metadata": {},
   "outputs": [],
   "source": []
  },
  {
   "cell_type": "code",
   "execution_count": null,
   "metadata": {},
   "outputs": [],
   "source": []
  },
  {
   "cell_type": "code",
   "execution_count": null,
   "metadata": {},
   "outputs": [],
   "source": []
  },
  {
   "cell_type": "code",
   "execution_count": null,
   "metadata": {},
   "outputs": [],
   "source": []
  }
 ],
 "metadata": {
  "kernelspec": {
   "display_name": "Python 3",
   "language": "python",
   "name": "python3"
  },
  "language_info": {
   "codemirror_mode": {
    "name": "ipython",
    "version": 3
   },
   "file_extension": ".py",
   "mimetype": "text/x-python",
   "name": "python",
   "nbconvert_exporter": "python",
   "pygments_lexer": "ipython3",
   "version": "3.7.1"
  }
 },
 "nbformat": 4,
 "nbformat_minor": 2
}

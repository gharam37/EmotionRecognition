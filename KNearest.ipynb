{
 "cells": [
  {
   "cell_type": "code",
   "execution_count": null,
   "metadata": {
    "scrolled": false
   },
   "outputs": [
    {
     "name": "stdout",
     "output_type": "stream",
     "text": [
      "Arousal 73.05\n",
      "Counter({75.0: 362, 62.5: 256, 87.5: 229, 50.0: 95, 100.0: 47, 37.5: 11})\n",
      "Valence 56.875\n",
      "Counter({62.5: 292, 50.0: 283, 75.0: 168, 37.5: 147, 87.5: 53, 25.0: 47, 100.0: 5, 12.5: 4, 0.0: 1})\n",
      "Arousal 72.65\n",
      "Counter({75.0: 372, 62.5: 267, 87.5: 196, 50.0: 89, 100.0: 58, 37.5: 17, 25.0: 1})\n",
      "Valence 56.925\n",
      "Counter({50.0: 312, 62.5: 274, 75.0: 172, 37.5: 141, 87.5: 46, 25.0: 41, 100.0: 9, 12.5: 5})\n"
     ]
    }
   ],
   "source": [
    "import numpy as np\n",
    "import os\n",
    "from sklearn.neighbors import KNeighborsClassifier\n",
    "from sklearn.model_selection import train_test_split\n",
    "from sklearn.metrics import confusion_matrix\n",
    "from sklearn.metrics import accuracy_score\n",
    "import collections\n",
    "\n",
    "def KNearest(UserName,Kv,Ka,Window=256,StartTime=0,EndTime=63):\n",
    "  \n",
    "    file_path = os.path.join(\"ChannelsExtracted\",UserName, 'ArousalEncoded'+\".csv\")\n",
    "    ArousalFile =  np.genfromtxt(fname=file_path,delimiter=',')\n",
    "    file_path = os.path.join(\"ChannelsExtracted\",UserName, 'ValenceEncoded'+\".csv\")\n",
    "    ValenceFile =  np.genfromtxt(fname=file_path,delimiter=',')\n",
    "    BandsFile = np.genfromtxt('training/'+str(StartTime)+str(EndTime)+'/'+str(Window)+UserName+'.csv',delimiter=',')\n",
    "    # Split the data into training/testing sets\n",
    "    X_train, X_test, y_train, y_test,z_train,z_test = train_test_split(BandsFile, ValenceFile,ArousalFile, test_size=0.2)\n",
    "    \n",
    "    # Feature Scaling\n",
    "    from sklearn.preprocessing import StandardScaler\n",
    "    sc = StandardScaler()\n",
    "    X_train = sc.fit_transform(X_train)\n",
    "    X_test = sc.transform(X_test)\n",
    "    \t\n",
    "    # KNN\n",
    "    clf = KNeighborsClassifier(n_neighbors=Kv)\n",
    "    clf.fit(X_train, y_train)\n",
    "    y_predict = clf.predict(X_test)\n",
    "    cm = confusion_matrix(y_test, y_predict)\n",
    "#     print(cm)\n",
    "#     print(\"Accuracy score of Valence \")\n",
    "#     print(accuracy_score(y_test, y_predict)*100)\n",
    "\n",
    "    from sklearn.preprocessing import StandardScaler\n",
    "    sc = StandardScaler()\n",
    "    X_train = sc.fit_transform(X_train)\n",
    "    X_test = sc.transform(X_test)\n",
    "    \t\n",
    "    # KNN\n",
    "    clf = KNeighborsClassifier(n_neighbors=Ka)\n",
    "    clf.fit(X_train, z_train)\n",
    "    z_predict = clf.predict(X_test)\n",
    "#     print(z_predict)\n",
    "    cm = confusion_matrix(z_test, z_predict)\n",
    "#     print(\"Valence test\")\n",
    "#     for i in range (len(y_test)):\n",
    "#         print(y_test[i])\n",
    "# print(\"Valence Train\")\n",
    "# for i in range (len(y_train)):\n",
    "#     print(y_train[i])\n",
    "#     print(\"Valence predict\")\n",
    "#     for i in range (len(y_predict)):\n",
    "#         print(y_predict[i])\n",
    "    return [accuracy_score(z_test, z_predict)*100,accuracy_score(y_test, y_predict)*100]\n",
    "#     print(cm)\n",
    "#     print(\"Accuracy score of Arousal \")\n",
    "#     print(accuracy_score(y_test, y_predict)*100)\n",
    "    \n",
    "    \n",
    "def Run1000(UserName,Kv,Ka,Window=256,StartTime=0,EndTime=63):\n",
    "    arousal=[]\n",
    "    valence=[]\n",
    "    for i in range (1000):\n",
    "        knearest=KNearest(UserName,Kv,Ka,Window,StartTime,EndTime)\n",
    "        arousal+=[knearest[0]]\n",
    "        valence+=[knearest[1]]\n",
    "    print(\"Arousal \"+str(np.mean(arousal)))\n",
    "    print(collections.Counter(arousal))\n",
    "    print(\"Valence \"+str(np.mean(valence)))\n",
    "    print(collections.Counter(valence))\n",
    "    \n",
    "if __name__ == \"__main__\":\n",
    "  for i in range(10):\n",
    "    Run1000(\"S03\",1,5,StartTime=30,EndTime=35)"
   ]
  },
  {
   "cell_type": "code",
   "execution_count": null,
   "metadata": {},
   "outputs": [],
   "source": []
  },
  {
   "cell_type": "code",
   "execution_count": null,
   "metadata": {},
   "outputs": [],
   "source": []
  },
  {
   "cell_type": "code",
   "execution_count": null,
   "metadata": {},
   "outputs": [],
   "source": []
  }
 ],
 "metadata": {
  "kernelspec": {
   "display_name": "Python 3",
   "language": "python",
   "name": "python3"
  },
  "language_info": {
   "codemirror_mode": {
    "name": "ipython",
    "version": 3
   },
   "file_extension": ".py",
   "mimetype": "text/x-python",
   "name": "python",
   "nbconvert_exporter": "python",
   "pygments_lexer": "ipython3",
   "version": "3.7.1"
  }
 },
 "nbformat": 4,
 "nbformat_minor": 2
}

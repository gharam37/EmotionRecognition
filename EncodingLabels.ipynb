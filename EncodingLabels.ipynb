{
 "cells": [
  {
   "cell_type": "code",
   "execution_count": 3,
   "metadata": {
    "scrolled": true
   },
   "outputs": [
    {
     "name": "stdout",
     "output_type": "stream",
     "text": [
      "Program started\n",
      "\n",
      "Encoded Valence\n",
      "\n",
      "Program started\n",
      "\n",
      "Encoded arousal\n",
      "\n"
     ]
    }
   ],
   "source": [
    "import os\n",
    "import numpy as np\n",
    "def EncodeValence():\n",
    "    file_path = os.path.join(\"ChannelsExtracted\",\"s01\", 'valence'+\".csv\")\n",
    "    ValenceFile =  np.genfromtxt(fname=file_path,delimiter=',')\n",
    "    print(\"Program started\"+\"\\n\")\n",
    "    fout_labels_class = open(\"ChannelsExtracted/s01/ValenceEncoded.csv\",'w')\n",
    "    for val in ValenceFile:\n",
    "            if float(val) > 4.5:\n",
    "                fout_labels_class.write(str(1) + \"\\n\");\n",
    "            else:\n",
    "                fout_labels_class.write(str(0) + \"\\n\");\n",
    "                \n",
    "    print(\"Encoded Valence\"+\"\\n\")\n",
    "def EncodeArousal():\n",
    "    file_path = os.path.join(\"ChannelsExtracted\",\"s01\", 'arousal'+\".csv\")\n",
    "    arousalFile =  np.genfromtxt(fname=file_path,delimiter=',')\n",
    "    print(\"Program started\"+\"\\n\")\n",
    "    fout_labels_class = open(\"ChannelsExtracted/s01/ArousalEncoded.csv\",'w')\n",
    "    for val in arousalFile:\n",
    "            if float(val) > 4.5:\n",
    "                fout_labels_class.write(str(1) + \"\\n\");\n",
    "            else:\n",
    "                fout_labels_class.write(str(0) + \"\\n\");\n",
    "                \n",
    "    print(\"Encoded arousal\"+\"\\n\")\n",
    "\n",
    "if __name__ == '__main__':\n",
    "    EncodeValence()\n",
    "    EncodeArousal()\n",
    "    "
   ]
  },
  {
   "cell_type": "code",
   "execution_count": null,
   "metadata": {},
   "outputs": [],
   "source": []
  },
  {
   "cell_type": "code",
   "execution_count": null,
   "metadata": {},
   "outputs": [],
   "source": []
  },
  {
   "cell_type": "code",
   "execution_count": null,
   "metadata": {},
   "outputs": [],
   "source": []
  }
 ],
 "metadata": {
  "kernelspec": {
   "display_name": "Python 3",
   "language": "python",
   "name": "python3"
  },
  "language_info": {
   "codemirror_mode": {
    "name": "ipython",
    "version": 3
   },
   "file_extension": ".py",
   "mimetype": "text/x-python",
   "name": "python",
   "nbconvert_exporter": "python",
   "pygments_lexer": "ipython3",
   "version": "3.7.1"
  }
 },
 "nbformat": 4,
 "nbformat_minor": 2
}

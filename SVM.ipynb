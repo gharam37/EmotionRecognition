{
 "cells": [
  {
   "cell_type": "code",
   "execution_count": 50,
   "metadata": {
    "scrolled": false
   },
   "outputs": [
    {
     "name": "stdout",
     "output_type": "stream",
     "text": [
      "[[8]]\n",
      "Accuracy score of Valence \n",
      "100.0\n",
      "[[4]]\n",
      "Accuracy score of Arousal \n",
      "100.0\n"
     ]
    }
   ],
   "source": [
    "from sklearn import svm\n",
    "import numpy as np\n",
    "import os\n",
    "import numpy\n",
    "from sklearn.svm import SVC\n",
    "from sklearn.model_selection import train_test_split\n",
    "from sklearn.metrics import confusion_matrix\n",
    "from sklearn.metrics import accuracy_score\n",
    "\n",
    "file_path = os.path.join(\"ChannelsExtracted\",\"s03\", 'ArousalEncoded'+\".csv\")\n",
    "ArousalFile =  np.genfromtxt(fname=file_path,delimiter=',')\n",
    "file_path = os.path.join(\"ChannelsExtracted\",\"s03\", 'ValenceEncoded'+\".csv\")\n",
    "ValenceFile =  np.genfromtxt(fname=file_path,delimiter=',')\n",
    "BandsFile = np.genfromtxt('training/s03train.csv',delimiter=',')\n",
    "\n",
    "#ArousalFile=ArousalFile.astype(int)\n",
    "#ValenceFile=ValenceFile.astype(int)\n",
    "X_train, X_test, y_train, y_test = train_test_split(BandsFile, ValenceFile, test_size=0.2, random_state=42)\n",
    "\n",
    "# Feature Scaling\n",
    "from sklearn.preprocessing import StandardScaler\n",
    "sc = StandardScaler()\n",
    "X_train = sc.fit_transform(X_train)\n",
    "X_test = sc.transform(X_test)\n",
    "    \t\n",
    "# SVM Classifier\n",
    "clf = SVC(kernel = 'rbf', random_state = 42)\n",
    "clf.fit(X_train, y_train)\n",
    "y_predict = clf.predict(X_test)\n",
    "cm = confusion_matrix(y_test, y_predict)\n",
    "print(cm)\n",
    "print(\"Accuracy score of Valence \")\n",
    "print(accuracy_score(y_test, y_predict)*100)\n",
    "\n",
    "\n",
    "\n",
    "X_train, X_test, y_train, y_test = train_test_split(BandsFile, ArousalFile, test_size=.1, random_state=42)\n",
    "    \n",
    "# Feature Scaling\n",
    "from sklearn.preprocessing import StandardScaler\n",
    "sc = StandardScaler()\n",
    "X_train = sc.fit_transform(X_train)\n",
    "X_test = sc.transform(X_test)\n",
    "    \t\n",
    "# SVM Classifier\n",
    "clf = SVC(kernel = 'rbf', random_state = 42)\n",
    "clf.fit(X_train, y_train)\n",
    "y_predict = clf.predict(X_test)\n",
    "cm = confusion_matrix(y_test, y_predict)\n",
    "print(cm)\n",
    "print(\"Accuracy score of Arousal \")\n",
    "print(accuracy_score(y_test, y_predict)*100)\n",
    "    \n"
   ]
  },
  {
   "cell_type": "code",
   "execution_count": null,
   "metadata": {},
   "outputs": [],
   "source": []
  },
  {
   "cell_type": "code",
   "execution_count": null,
   "metadata": {},
   "outputs": [],
   "source": []
  },
  {
   "cell_type": "code",
   "execution_count": null,
   "metadata": {},
   "outputs": [],
   "source": []
  },
  {
   "cell_type": "code",
   "execution_count": null,
   "metadata": {},
   "outputs": [],
   "source": []
  }
 ],
 "metadata": {
  "kernelspec": {
   "display_name": "Python 3",
   "language": "python",
   "name": "python3"
  },
  "language_info": {
   "codemirror_mode": {
    "name": "ipython",
    "version": 3
   },
   "file_extension": ".py",
   "mimetype": "text/x-python",
   "name": "python",
   "nbconvert_exporter": "python",
   "pygments_lexer": "ipython3",
   "version": "3.7.1"
  }
 },
 "nbformat": 4,
 "nbformat_minor": 2
}

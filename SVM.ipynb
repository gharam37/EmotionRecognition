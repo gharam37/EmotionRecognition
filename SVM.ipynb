{
 "cells": [
  {
   "cell_type": "code",
   "execution_count": null,
   "metadata": {
    "scrolled": true
   },
   "outputs": [
    {
     "name": "stdout",
     "output_type": "stream",
     "text": [
      "Arousal 57.525\n",
      "Counter({62.5: 327, 50.0: 297, 75.0: 179, 37.5: 125, 87.5: 34, 25.0: 33, 100.0: 3, 12.5: 2})\n",
      "Valence 37.9125\n",
      "Counter({37.5: 310, 25.0: 253, 50.0: 242, 62.5: 87, 12.5: 78, 75.0: 17, 0.0: 11, 87.5: 2})\n",
      "Arousal 57.3625\n",
      "Counter({62.5: 338, 50.0: 297, 75.0: 176, 37.5: 124, 25.0: 29, 87.5: 28, 12.5: 5, 100.0: 3})\n",
      "Valence 36.3\n",
      "Counter({37.5: 305, 25.0: 293, 50.0: 210, 12.5: 93, 62.5: 71, 75.0: 18, 0.0: 9, 87.5: 1})\n"
     ]
    }
   ],
   "source": [
    "from sklearn import svm\n",
    "import numpy as np\n",
    "import os\n",
    "import numpy\n",
    "from sklearn.svm import SVC\n",
    "from sklearn.model_selection import train_test_split\n",
    "from sklearn.metrics import confusion_matrix\n",
    "from sklearn.metrics import accuracy_score\n",
    "import collections\n",
    "def SVM():\n",
    "    file_path = os.path.join(\"ChannelsExtracted\",\"s01\", 'ArousalEncoded'+\".csv\")\n",
    "    ArousalFile =  np.genfromtxt(fname=file_path,delimiter=',')\n",
    "    file_path = os.path.join(\"ChannelsExtracted\",\"s01\", 'ValenceEncoded'+\".csv\")\n",
    "    ValenceFile =  np.genfromtxt(fname=file_path,delimiter=',')\n",
    "    BandsFile = np.genfromtxt('training/s013035train.csv',delimiter=',')\n",
    "    X_train, X_test, y_train, y_test , z_train,z_test= train_test_split(BandsFile, ValenceFile,ArousalFile, test_size=0.2)\n",
    "# Feature Scaling\n",
    "    from sklearn.preprocessing import StandardScaler\n",
    "    sc = StandardScaler()\n",
    "    X_train = sc.fit_transform(X_train)\n",
    "    X_test = sc.transform(X_test)  \t\n",
    "# SVM Classifier\n",
    "    clf = SVC(kernel = 'rbf')\n",
    "    clf.fit(X_train, y_train)\n",
    "    y_predict = clf.predict(X_test)\n",
    "    cm = confusion_matrix(y_test, y_predict)\n",
    "#     print(cm)\n",
    "#     print(\"Accuracy score of Valence \")\n",
    "#     print(accuracy_score(y_test, y_predict)*100)\n",
    "    sc = StandardScaler()\n",
    "    X_train = sc.fit_transform(X_train)\n",
    "    X_test = sc.transform(X_test)\n",
    "    \t\n",
    "# SVM Classifier\n",
    "    clf = SVC(kernel = 'rbf')\n",
    "    clf.fit(X_train, z_train)\n",
    "    z_predict = clf.predict(X_test)\n",
    "    cm = confusion_matrix(z_test, z_predict)\n",
    "    return [accuracy_score(z_test, z_predict)*100,accuracy_score(y_test, y_predict)*100]\n",
    "#     print(cm)\n",
    "#     print(\"Accuracy score of Arousal \")\n",
    "#     print(accuracy_score(z_test, z_predict)*100)\n",
    "\n",
    "# print(\"Valence test\")\n",
    "# for i in range (len(y_test)):\n",
    "#     print(y_test[i])\n",
    "# print(\"Valence Train\")\n",
    "# for i in range (len(y_train)):\n",
    "#     print(y_train[i])\n",
    "# print(\"Valence predict\")\n",
    "# for i in range (len(y_predict)):\n",
    "#     print(y_predict[i])\n",
    "    \n",
    "# print(\"$$$$$$$Arousal$$$$$$$\")\n",
    "\n",
    "\n",
    "def Run1000():\n",
    "    arousal=[]\n",
    "    valence=[]\n",
    "    for i in range (1000):\n",
    "        svmpca=SVM()\n",
    "        arousal+=[svmpca[0]]\n",
    "        valence+=[svmpca[1]]\n",
    "    print(\"Arousal \"+str(np.mean(arousal)))\n",
    "    print(collections.Counter(arousal))\n",
    "    print(\"Valence \"+str(np.mean(valence)))\n",
    "    print(collections.Counter(valence))\n",
    "\n",
    "if __name__ == \"__main__\":\n",
    "    for i in range(10):\n",
    "        Run1000()"
   ]
  },
  {
   "cell_type": "code",
   "execution_count": null,
   "metadata": {},
   "outputs": [],
   "source": []
  },
  {
   "cell_type": "code",
   "execution_count": null,
   "metadata": {},
   "outputs": [],
   "source": []
  },
  {
   "cell_type": "code",
   "execution_count": null,
   "metadata": {},
   "outputs": [],
   "source": []
  },
  {
   "cell_type": "code",
   "execution_count": null,
   "metadata": {},
   "outputs": [],
   "source": []
  }
 ],
 "metadata": {
  "kernelspec": {
   "display_name": "Python 3",
   "language": "python",
   "name": "python3"
  },
  "language_info": {
   "codemirror_mode": {
    "name": "ipython",
    "version": 3
   },
   "file_extension": ".py",
   "mimetype": "text/x-python",
   "name": "python",
   "nbconvert_exporter": "python",
   "pygments_lexer": "ipython3",
   "version": "3.7.1"
  }
 },
 "nbformat": 4,
 "nbformat_minor": 2
}

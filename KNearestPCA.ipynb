{
 "cells": [
  {
   "cell_type": "code",
   "execution_count": 9,
   "metadata": {},
   "outputs": [
    {
     "name": "stdout",
     "output_type": "stream",
     "text": [
      "[[1 0]\n",
      " [1 2]]\n",
      "Accuracy score of valence test KNN-PCA\n",
      "75.0\n",
      "[[0 0]\n",
      " [2 2]]\n",
      "Accuracy score of Arousal test KNN-PCA\n",
      "50.0\n"
     ]
    }
   ],
   "source": [
    "import numpy as np\n",
    "import os\n",
    "from sklearn.decomposition import PCA\n",
    "from sklearn.neighbors import KNeighborsClassifier\n",
    "from sklearn.model_selection import train_test_split\n",
    "from sklearn.metrics import confusion_matrix\n",
    "from sklearn.metrics import accuracy_score\n",
    "\n",
    "def KNNPCA():\n",
    "    file_path = os.path.join(\"ChannelsExtracted\",\"s01\", 'ArousalEncoded'+\".csv\")\n",
    "    ArousalFile =  np.genfromtxt(fname=file_path,delimiter=',')\n",
    "    file_path = os.path.join(\"ChannelsExtracted\",\"s01\", 'ValenceEncoded'+\".csv\")\n",
    "    ValenceFile =  np.genfromtxt(fname=file_path,delimiter=',')\n",
    "    BandsFile = np.genfromtxt('training/s01train.csv',delimiter=',')\n",
    "    # Split the data into training/testing sets\n",
    "    X_train, X_test, y_train, y_test = train_test_split(BandsFile, ValenceFile, test_size=0.1, random_state=42)\n",
    "    \n",
    "    # Feature Scaling\n",
    "    from sklearn.preprocessing import StandardScaler\n",
    "    sc = StandardScaler()\n",
    "    X_train = sc.fit_transform(X_train)\n",
    "    X_test = sc.transform(X_test)\n",
    "           \n",
    "    # PCA to select features\n",
    "    pca = PCA(n_components=20, svd_solver='full')\n",
    "    pca.fit(BandsFile)\n",
    "    BandsFile = pca.transform(BandsFile)\n",
    "       \t\n",
    "    # KNN classsifier\n",
    "    clf = KNeighborsClassifier(n_neighbors=1)\n",
    "    trained_model=clf.fit(X_train,y_train)\n",
    "    trained_model.fit(X_train,y_train )\n",
    "    \n",
    "    clf.fit(X_train, y_train)\n",
    "    y_predict = clf.predict(X_test)\n",
    "    cm = confusion_matrix(y_test, y_predict)\n",
    "    print(cm)\n",
    "    \n",
    "    print(\"Accuracy score of valence test KNN-PCA\")\n",
    "    \n",
    "    print(accuracy_score(y_test, y_predict)*100)\n",
    "    \n",
    "    \n",
    "    ########################################################################\n",
    "\n",
    "    # Split the data into training/testing sets\n",
    "    X_train, X_test, y_train, y_test = train_test_split(BandsFile, ArousalFile, test_size=0.1, random_state=42)\n",
    "    \n",
    "    # Feature Scaling\n",
    "    from sklearn.preprocessing import StandardScaler\n",
    "    sc = StandardScaler()\n",
    "    X_train = sc.fit_transform(X_train)\n",
    "    X_test = sc.transform(X_test)\n",
    "        \n",
    "    # PCA to select features\n",
    "    pca = PCA(n_components=20, svd_solver='full')\n",
    "    pca.fit(BandsFile)\n",
    "    BandsFile = pca.transform(BandsFile)\n",
    "        \t\n",
    "    # KNN classsifier\n",
    "    clf = KNeighborsClassifier(n_neighbors=1)\n",
    "    trained_model=clf.fit(X_train,y_train)\n",
    "    trained_model.fit(X_train,y_train )\n",
    "    \n",
    "    clf.fit(X_train, y_train)\n",
    "    y_predict = clf.predict(X_test)\n",
    "    cm = confusion_matrix(y_test, y_predict)\n",
    "    print(cm)\n",
    "    \n",
    "    print(\"Accuracy score of Arousal test KNN-PCA\")\n",
    "    print(accuracy_score(y_test, y_predict)*100)\n",
    "if __name__ == \"__main__\":\n",
    "    KNNPCA()"
   ]
  },
  {
   "cell_type": "code",
   "execution_count": null,
   "metadata": {},
   "outputs": [],
   "source": []
  },
  {
   "cell_type": "code",
   "execution_count": null,
   "metadata": {},
   "outputs": [],
   "source": []
  },
  {
   "cell_type": "code",
   "execution_count": null,
   "metadata": {},
   "outputs": [],
   "source": []
  }
 ],
 "metadata": {
  "kernelspec": {
   "display_name": "Python 3",
   "language": "python",
   "name": "python3"
  },
  "language_info": {
   "codemirror_mode": {
    "name": "ipython",
    "version": 3
   },
   "file_extension": ".py",
   "mimetype": "text/x-python",
   "name": "python",
   "nbconvert_exporter": "python",
   "pygments_lexer": "ipython3",
   "version": "3.7.1"
  }
 },
 "nbformat": 4,
 "nbformat_minor": 2
}

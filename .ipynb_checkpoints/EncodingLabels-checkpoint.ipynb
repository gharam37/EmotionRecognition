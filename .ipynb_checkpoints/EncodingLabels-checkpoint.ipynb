{
 "cells": [
  {
   "cell_type": "code",
   "execution_count": 14,
   "metadata": {
    "scrolled": true
   },
   "outputs": [],
   "source": [
    "import os\n",
    "import numpy as np\n",
    "def EncodeValence(UserName):\n",
    "    file_path = os.path.join(\"ChannelsExtracted\",UserName, 'valence'+\".csv\")\n",
    "    ValenceFile =  np.genfromtxt(fname=file_path,delimiter=',')\n",
    "    print(\"Program started\"+\"\\n\")\n",
    "    fout_labels_class = open(\"ChannelsExtracted/\"+str(UserName)+\"/ValenceEncoded.csv\",'w')\n",
    "    for val in ValenceFile:\n",
    "            if float(val) >4.5:\n",
    "#             if float(val) >np.mean(ValenceFile):\n",
    "                print(np.mean(ValenceFile))\n",
    "                fout_labels_class.write(str(1) + \"\\n\");\n",
    "            else:\n",
    "                fout_labels_class.write(str(0) + \"\\n\");\n",
    "                \n",
    "    print(\"Encoded Valence\"+\"\\n\")\n",
    "def EncodeArousal(UserName):\n",
    "    file_path = os.path.join(\"ChannelsExtracted/\",UserName, 'arousal'+\".csv\")\n",
    "    ArousalFile =  np.genfromtxt(fname=file_path,delimiter=',')\n",
    "    print(\"Program started\"+\"\\n\")\n",
    "    fout_labels_class = open(\"ChannelsExtracted/\"+str(UserName)+\"/\"+\"ArousalEncoded.csv\",'w')\n",
    "    for val in ArousalFile:\n",
    "            if float(val) > 4.5:\n",
    "#             if float(val) > np.mean(ArousalFile):\n",
    "                print(np.mean(ArousalFile))\n",
    "                fout_labels_class.write(str(1) + \"\\n\");\n",
    "            else:\n",
    "                fout_labels_class.write(str(0) + \"\\n\");\n",
    "                \n",
    "    print(\"Encoded arousal\"+\"\\n\")\n",
    "    \n",
    "    \n",
    "def EncodeValenceAndArousal(UserName):\n",
    "    file_path = os.path.join(\"ChannelsExtracted\",UserName, 'ValenceEncoded'+\".csv\")\n",
    "    ValenceFile =  np.genfromtxt(fname=file_path,delimiter=',')\n",
    "    file_path = os.path.join(\"ChannelsExtracted\",UserName, 'ArousalEncoded'+\".csv\")\n",
    "    ArousalFile =  np.genfromtxt(fname=file_path,delimiter=',')\n",
    "    fout_labels_class = open(\"ChannelsExtracted/\"+str(UserName)+\"/ValenceAndArousalEncoded.csv\",'w')\n",
    "    for i in  range(len(ArousalFile)):\n",
    "        if ArousalFile[i]==1 and ValenceFile[i]==1:\n",
    "            fout_labels_class.write(str(0) + \"\\n\"); #Happy\n",
    "        elif ArousalFile[i]==1 and ValenceFile[i]==0:\n",
    "            fout_labels_class.write(str(1) + \"\\n\"); #Angry\n",
    "        elif ArousalFile[i]==0 and ValenceFile[i]==1:\n",
    "            fout_labels_class.write(str(2) + \"\\n\"); #Calm\n",
    "        else:\n",
    "            fout_labels_class.write(str(3) + \"\\n\"); #Sad\n",
    "            \n",
    "            \n",
    "def EncodeHappyAndSad(UserName,Window=256,StartTime=0,EndTime=63):\n",
    "    file_path = os.path.join(\"ChannelsExtracted\",UserName, 'ValenceEncoded'+\".csv\")\n",
    "    ValenceFile =  np.genfromtxt(fname=file_path,delimiter=',')\n",
    "    file_path = os.path.join(\"ChannelsExtracted\",UserName, 'ArousalEncoded'+\".csv\")\n",
    "    ArousalFile =  np.genfromtxt(fname=file_path,delimiter=',')\n",
    "    BandsFile = np.genfromtxt('training/'+str(StartTime)+str(EndTime)+'/'+str(Window)+UserName+'.csv',delimiter=',')\n",
    "    fout_labels_class = open(\"ChannelsExtracted/\"+str(UserName)+\"/ValenceAndArousalEncoded.csv\",'w')\n",
    "    fout_labels_class = open('training/'+str(StartTime)+str(EndTime)+'/'+str(Window)+UserName+\"HS\"+'.csv',delimiter=',')\n",
    "    for i in  range(len(ArousalFile)):\n",
    "        if ArousalFile[i]==1 and ValenceFile[i]==1:\n",
    "            fout_labels_class.write(str(0) + \"\\n\"); #Happy\n",
    "        elif ArousalFile[i]==0 and ValenceFile[i]==0:\n",
    "            fout_labels_class.write(str(1) + \"\\n\"); #Sad\n",
    "\n",
    "    \n",
    "\n",
    "if __name__ == '__main__':\n",
    "    for i in range(1,10):\n",
    "        EncodeValenceAndArousal(\"s0\"+str(i))  \n",
    "    for i in range(10,33):\n",
    "        EncodeValenceAndArousal(\"s\"+str(i))\n",
    "\n",
    "    "
   ]
  },
  {
   "cell_type": "code",
   "execution_count": null,
   "metadata": {},
   "outputs": [],
   "source": []
  },
  {
   "cell_type": "code",
   "execution_count": null,
   "metadata": {},
   "outputs": [],
   "source": []
  },
  {
   "cell_type": "code",
   "execution_count": null,
   "metadata": {},
   "outputs": [],
   "source": []
  }
 ],
 "metadata": {
  "kernelspec": {
   "display_name": "Python 3",
   "language": "python",
   "name": "python3"
  },
  "language_info": {
   "codemirror_mode": {
    "name": "ipython",
    "version": 3
   },
   "file_extension": ".py",
   "mimetype": "text/x-python",
   "name": "python",
   "nbconvert_exporter": "python",
   "pygments_lexer": "ipython3",
   "version": "3.7.1"
  }
 },
 "nbformat": 4,
 "nbformat_minor": 2
}

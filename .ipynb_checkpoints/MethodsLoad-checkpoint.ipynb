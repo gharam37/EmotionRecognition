{
 "cells": [
  {
   "cell_type": "code",
   "execution_count": null,
   "metadata": {},
   "outputs": [],
   "source": []
  },
  {
   "cell_type": "code",
   "execution_count": 14,
   "metadata": {
    "scrolled": false
   },
   "outputs": [
    {
     "name": "stdout",
     "output_type": "stream",
     "text": [
      "Program started \n",
      "\n",
      "Program Success \n",
      "\n"
     ]
    },
    {
     "ename": "IndexError",
     "evalue": "index 7424 is out of bounds for axis 0 with size 40",
     "output_type": "error",
     "traceback": [
      "\u001b[1;31m---------------------------------------------------------------------------\u001b[0m",
      "\u001b[1;31mIndexError\u001b[0m                                Traceback (most recent call last)",
      "\u001b[1;32m<ipython-input-14-05001668f00c>\u001b[0m in \u001b[0;36m<module>\u001b[1;34m\u001b[0m\n\u001b[0;32m     96\u001b[0m \u001b[1;33m\u001b[0m\u001b[0m\n\u001b[0;32m     97\u001b[0m \u001b[1;32mif\u001b[0m \u001b[0m__name__\u001b[0m \u001b[1;33m==\u001b[0m \u001b[1;34m\"__main__\"\u001b[0m\u001b[1;33m:\u001b[0m\u001b[1;33m\u001b[0m\u001b[1;33m\u001b[0m\u001b[0m\n\u001b[1;32m---> 98\u001b[1;33m     \u001b[0mExtractPeriodFromFullFile\u001b[0m\u001b[1;33m(\u001b[0m\u001b[1;34m\"s05\"\u001b[0m\u001b[1;33m,\u001b[0m\u001b[1;34m\"256\"\u001b[0m\u001b[1;33m,\u001b[0m\u001b[1;36m29\u001b[0m\u001b[1;33m,\u001b[0m\u001b[1;36m35\u001b[0m\u001b[1;33m)\u001b[0m\u001b[1;33m\u001b[0m\u001b[1;33m\u001b[0m\u001b[0m\n\u001b[0m\u001b[0;32m     99\u001b[0m \u001b[1;33m\u001b[0m\u001b[0m\n\u001b[0;32m    100\u001b[0m \u001b[1;33m\u001b[0m\u001b[0m\n",
      "\u001b[1;32m<ipython-input-14-05001668f00c>\u001b[0m in \u001b[0;36mExtractPeriodFromFullFile\u001b[1;34m(UserName, WelchWindow, StartTime, EndTime)\u001b[0m\n\u001b[0;32m     79\u001b[0m     \u001b[1;32mwith\u001b[0m \u001b[0mopen\u001b[0m\u001b[1;33m(\u001b[0m\u001b[1;34m'training/'\u001b[0m\u001b[1;33m+\u001b[0m\u001b[0mWelchWindow\u001b[0m\u001b[1;33m+\u001b[0m\u001b[0mUserName\u001b[0m\u001b[1;33m+\u001b[0m\u001b[0mstr\u001b[0m\u001b[1;33m(\u001b[0m\u001b[0mStartTime\u001b[0m\u001b[1;33m)\u001b[0m\u001b[1;33m+\u001b[0m\u001b[1;34m\".csv\"\u001b[0m\u001b[1;33m,\u001b[0m\u001b[1;34m'w'\u001b[0m\u001b[1;33m)\u001b[0m \u001b[1;32mas\u001b[0m \u001b[0mout\u001b[0m\u001b[1;33m:\u001b[0m\u001b[1;33m\u001b[0m\u001b[1;33m\u001b[0m\u001b[0m\n\u001b[0;32m     80\u001b[0m         \u001b[1;32mfor\u001b[0m \u001b[0mrowindex\u001b[0m \u001b[1;32min\u001b[0m \u001b[0mrange\u001b[0m \u001b[1;33m(\u001b[0m\u001b[0mStartTime\u001b[0m\u001b[1;33m*\u001b[0m\u001b[1;36m256\u001b[0m\u001b[1;33m,\u001b[0m\u001b[0mEndTime\u001b[0m\u001b[1;33m*\u001b[0m\u001b[1;36m256\u001b[0m\u001b[1;33m)\u001b[0m\u001b[1;33m:\u001b[0m\u001b[1;33m\u001b[0m\u001b[1;33m\u001b[0m\u001b[0m\n\u001b[1;32m---> 81\u001b[1;33m             \u001b[0mout\u001b[0m\u001b[1;33m.\u001b[0m\u001b[0mwrite\u001b[0m\u001b[1;33m(\u001b[0m\u001b[0mWholeCsv\u001b[0m\u001b[1;33m[\u001b[0m\u001b[0mrowindex\u001b[0m\u001b[1;33m]\u001b[0m\u001b[1;33m)\u001b[0m\u001b[1;33m\u001b[0m\u001b[1;33m\u001b[0m\u001b[0m\n\u001b[0m\u001b[0;32m     82\u001b[0m \u001b[1;33m\u001b[0m\u001b[0m\n\u001b[0;32m     83\u001b[0m \u001b[1;33m\u001b[0m\u001b[0m\n",
      "\u001b[1;31mIndexError\u001b[0m: index 7424 is out of bounds for axis 0 with size 40"
     ]
    }
   ],
   "source": [
    "import scipy.io\n",
    "import os\n",
    "from multiprocessing import Pool\n",
    "import sys\n",
    "import numpy as np\n",
    "chan = ['Fp1','AF3','F3','F7','FC5','FC1','C3','T7','CP5','CP1','P3','P7','PO3','O1','Oz','Pz','Fp2','AF4','Fz','F4','F8','FC6','FC2','Cz','C4','T8','CP6','CP2','P4','P8','PO4','O2']\n",
    "nLabel, nTrial, nUser, nChannel, nTime  = 4, 40, 32, 32, 8064\n",
    "print(\"Program started \\n\")\n",
    "def convertOneLine(UserNumber,TrialNumber,ChannelNumber):\n",
    "    fname = \"Data/Users/\"+UserNumber+\".mat\"\n",
    "    x = scipy.io.loadmat(fname)\n",
    "    fout_data = open(\"ChannelsExtracted/\"+UserNumber+\"/\"+str(TrialNumber)+chan[ChannelNumber]+\"featuresraw.csv\",'w')\n",
    "    for dat in range(nTime):\t\n",
    "\t    fout_data.write(str(x['data'][TrialNumber][ChannelNumber][dat])+\"\\n\");\n",
    "\t    #fout_data.write(\"\\n\");\n",
    "    fout_data.close()\n",
    "def convertData(UserNumber,TrialNumber):\n",
    "    fname = \"Data/Users/\"+UserNumber+\".mat\"\n",
    "    x = scipy.io.loadmat(fname)\n",
    "    fout_data = open(\"ChannelsExtracted/\"+UserNumber+\"/\"+str(TrialNumber)+\"featuresraw.csv\",'w')\n",
    "    for dat in range(nTime):\n",
    "        for ch in range(nChannel):\n",
    "             fout_data.write(str(x['data'][TrialNumber][ch][dat])+\",\" );\n",
    "        fout_data.write(\"\\n\");\n",
    "    fout_data.close()\n",
    "def convertDataWithWindow(UserNumber,TrialNumber,StartPeriod,EndPeriod):\n",
    "    fname = \"Data/Users/\"+UserNumber+\".mat\"\n",
    "    x = scipy.io.loadmat(fname)\n",
    "    fout_data = open(\"ChannelsExtracted/\"+UserNumber+\"/\"+str(StartPeriod)+str(EndPeriod)+\"/t\"+str(TrialNumber)+\"featuresraw.csv\",'w')\n",
    "    for dat in range(StartPeriod*128,EndPeriod*128+1):\n",
    "#         print(dat)\n",
    "        for ch in range(nChannel):\n",
    "             fout_data.write(str(x['data'][TrialNumber][ch][dat])+\",\" );\n",
    "        fout_data.write(\"\\n\");\n",
    "    fout_data.close()\n",
    "    \n",
    "def ExtractLabels(UserNumber):\n",
    "    fout_labels0 = open(\"ChannelsExtracted/\"+UserNumber+\"/\"+\"valence.csv\",'w')\n",
    "    fout_labels1 = open(\"ChannelsExtracted/\"+UserNumber+\"/\"+\" arousal.csv\",'w')\n",
    "    fout_labels2 = open(\"ChannelsExtracted/\"+UserNumber+\"/\"+\" dominance.csv\",'w')\n",
    "    fout_labels3 = open(\"ChannelsExtracted/\"+UserNumber+\"/\"+\" liking.csv\",'w')\n",
    "    fname = \"Data/Users/\"+UserNumber+\".mat\"\n",
    "    x = scipy.io.loadmat(fname)\n",
    "    for tr in range(nTrial):\n",
    "        fout_labels0.write(str(x['labels'][tr][0]) + \"\\n\");\n",
    "        fout_labels1.write(str(x['labels'][tr][1]) + \"\\n\");\n",
    "        fout_labels2.write(str(x['labels'][tr][2]) + \"\\n\");\n",
    "        fout_labels3.write(str(x['labels'][tr][3]) + \"\\n\");\n",
    "    fout_labels0.close()\n",
    "    fout_labels1.close()\n",
    "    fout_labels2.close()\n",
    "    fout_labels3.close()\n",
    "def OneUserData(UserNumber):\n",
    "    try:  \n",
    "        os.mkdir(\"ChannelsExtracted/\"+UserNumber)\n",
    "    except OSError:  \n",
    "        print (\"Creation of the directory  failed\")\n",
    "    else:  \n",
    "        print (\"Successfully created the directory \")\n",
    "    ExtractLabels(UserNumber)\n",
    "    for tr in range(nTrial):\n",
    "        convertData(UserNumber,tr)\n",
    "def OneUserDataWithWindow(UserNumber,StartPeriod,EndPeriod):\n",
    "    try:  \n",
    "        os.mkdir(\"ChannelsExtracted/\"+UserNumber+\"/\"+str(StartPeriod)+str(EndPeriod))\n",
    "    except OSError:  \n",
    "        print (\"Creation of the directory  failed\")\n",
    "    else:  \n",
    "        print (\"Successfully created the directory \")\n",
    "    ExtractLabels(UserNumber)\n",
    "    for tr in range(nTrial):\n",
    "        convertDataWithWindow(UserNumber,tr,StartPeriod,EndPeriod)\n",
    "        \n",
    "    \n",
    "    \n",
    "        \n",
    "# def ExtractPeriodFromFullFile(UserName,WelchWindow,StartTime,EndTime):\n",
    "#     WholeCsv = np.genfromtxt(\"training/\"+WelchWindow+str(UserName)+\"train.csv\", delimiter=\",\")\n",
    "#     with open('training/'+WelchWindow+UserName+str(StartTime)+\".csv\",'w') as out:\n",
    "#         for rowindex in range (StartTime*256,EndTime*256):\n",
    "#             out.write(WholeCsv[rowindex])\n",
    "    \n",
    "        \n",
    "    \n",
    "    \n",
    "def AllUserData():\n",
    "    for i in range(nUser): \n",
    "        if(i%1 == 0):\n",
    "            if i < 10:\n",
    "                name = '%0*d' % (2,i+1)\n",
    "            else:\n",
    "                name = i+1\n",
    "        OneUserData(\"s\"+str(name))\n",
    "        \n",
    "print(\"Program Success \\n\")\n",
    "\n",
    "if __name__ == \"__main__\":\n",
    "    ExtractPeriodFromFullFile(\"s05\",\"256\",29,35)\n",
    "\n",
    "\n",
    "    "
   ]
  },
  {
   "cell_type": "code",
   "execution_count": null,
   "metadata": {},
   "outputs": [],
   "source": []
  },
  {
   "cell_type": "code",
   "execution_count": null,
   "metadata": {},
   "outputs": [],
   "source": []
  },
  {
   "cell_type": "code",
   "execution_count": null,
   "metadata": {},
   "outputs": [],
   "source": []
  },
  {
   "cell_type": "code",
   "execution_count": null,
   "metadata": {},
   "outputs": [],
   "source": []
  }
 ],
 "metadata": {
  "kernelspec": {
   "display_name": "Python 3",
   "language": "python",
   "name": "python3"
  },
  "language_info": {
   "codemirror_mode": {
    "name": "ipython",
    "version": 3
   },
   "file_extension": ".py",
   "mimetype": "text/x-python",
   "name": "python",
   "nbconvert_exporter": "python",
   "pygments_lexer": "ipython3",
   "version": "3.7.1"
  }
 },
 "nbformat": 4,
 "nbformat_minor": 2
}

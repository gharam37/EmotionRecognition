{
 "cells": [
  {
   "cell_type": "code",
   "execution_count": null,
   "metadata": {
    "scrolled": true
   },
   "outputs": [],
   "source": [
    "%matplotlib inline\n",
    "import import_ipynb\n",
    "import pandas as pd\n",
    "from MethodsLoad import OneUserData,convertData\n",
    "import matplotlib.pyplot as plt\n",
    "import numpy as np\n",
    "import os\n",
    "import seaborn as sns\n",
    "sns.set(font_scale=1.2)\n",
    "file_path = os.path.join(\"ChannelsExtracted\",\"s01\", \"arousal.csv\")\n",
    "data = np.loadtxt(fname=file_path)\n",
    "fig, ax = plt.subplots(1, 1, figsize=(12, 4))\n",
    "trial = np.arange(data.size) \n",
    "plt.bar(trial,data, label='Arousal!')\n",
    "plt.xlabel('Trials')\n",
    "plt.ylabel('Rating')\n",
    "#plt.xlim([trial.min(), trial.max()])\n",
    "plt.title('Arousal')\n",
    "####################\n",
    "file_path = os.path.join(\"ChannelsExtracted\",\"s01\", \"valence.csv\")\n",
    "data = np.loadtxt(fname=file_path)\n",
    "fig, ax = plt.subplots(1, 1, figsize=(12, 4))\n",
    "trial = np.arange(data.size) \n",
    "plt.bar(trial,data, label='Valence!')\n",
    "plt.xlabel('Trials')\n",
    "plt.ylabel('Rating')\n",
    "#plt.xlim([trial.min(), trial.max()])\n",
    "plt.title('Valence')\n",
    "\n",
    "\n",
    "####################\n",
    "\n",
    "\n",
    "file_path = os.path.join(\"ChannelsExtracted\",\"s01\", \"0Czfeaturesraw.csv\")\n",
    "data = np.loadtxt(fname=file_path)\n",
    "fig, ax = plt.subplots(1, 1, figsize=(20, 10))\n",
    "sample = np.arange(data.size) \n",
    "plt.plot(sample,data, label='Cz Channel!')\n",
    "plt.xlabel('Sample')\n",
    "plt.ylabel('MicroVolt')\n",
    "#plt.xlim([0, sample.max()])\n",
    "plt.title('Cz Channel')\n",
    "\n",
    "sns.despine()\n",
    "\n",
    "\n"
   ]
  },
  {
   "cell_type": "code",
   "execution_count": null,
   "metadata": {},
   "outputs": [],
   "source": []
  },
  {
   "cell_type": "code",
   "execution_count": null,
   "metadata": {},
   "outputs": [],
   "source": []
  },
  {
   "cell_type": "code",
   "execution_count": null,
   "metadata": {},
   "outputs": [],
   "source": []
  },
  {
   "cell_type": "code",
   "execution_count": null,
   "metadata": {},
   "outputs": [],
   "source": []
  }
 ],
 "metadata": {
  "kernelspec": {
   "display_name": "Python 3",
   "language": "python",
   "name": "python3"
  },
  "language_info": {
   "codemirror_mode": {
    "name": "ipython",
    "version": 3
   },
   "file_extension": ".py",
   "mimetype": "text/x-python",
   "name": "python",
   "nbconvert_exporter": "python",
   "pygments_lexer": "ipython3",
   "version": "3.7.1"
  }
 },
 "nbformat": 4,
 "nbformat_minor": 2
}

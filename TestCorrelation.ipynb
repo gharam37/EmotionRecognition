{
 "cells": [
  {
   "cell_type": "code",
   "execution_count": 1,
   "metadata": {
    "scrolled": true
   },
   "outputs": [
    {
     "data": {
      "text/plain": [
       "array([[1.       , 0.1412423],\n",
       "       [0.1412423, 1.       ]])"
      ]
     },
     "execution_count": 1,
     "metadata": {},
     "output_type": "execute_result"
    }
   ],
   "source": [
    "from scipy import signal\n",
    "import numpy as np\n",
    "import os\n",
    "import seaborn as sns\n",
    "import matplotlib.pyplot as plt\n",
    "from scipy.integrate import simps\n",
    "win = 128*35\n",
    "AbsoluteAlpha=[]\n",
    "for i in range(40):\n",
    "    file_path = os.path.join(\"ChannelsExtracted\",\"s02\", str(i)+\"CZfeaturesraw.csv\")\n",
    "    data = np.loadtxt(fname=file_path)\n",
    "    freqs, psd = signal.welch(data, 128, nperseg=win)\n",
    "    # Plot the power spectrum\n",
    "    sns.set(font_scale=1.2, style='white')\n",
    "    #plt.figure(figsize=(8, 4))\n",
    "    #plt.plot(freqs, psd, color='k', lw=2)\n",
    "    #plt.xlabel('Frequency (Hz)')\n",
    "    #plt.ylabel('Power spectral density (V^2 / Hz)')\n",
    "    #plt.ylim([0, psd.max() * 1.1])\n",
    "    #plt.title(\"Welch's periodogram \"+str(i))\n",
    "    #plt.xlim([0, freqs.max()])\n",
    "    #sns.despine()\n",
    "    # Define alpha lower and upper limits\n",
    "    low, high = 3, 7\n",
    "\n",
    "    # Find intersecting values in frequency vector\n",
    "    idx_delta = np.logical_and(freqs >= low, freqs <= high)\n",
    "\n",
    "\n",
    "    freq_res = freqs[1] - freqs[0] \n",
    "    delta_power = simps(psd[idx_delta], dx=freq_res)\n",
    "    AbsoluteAlpha.append(delta_power)\n",
    "    #print(AbsoluteAlpha[i])\n",
    "    total_power = simps(psd, dx=freq_res)\n",
    "    delta_rel_power = delta_power / total_power\n",
    "    \n",
    "file_path = os.path.join(\"ChannelsExtracted\",\"s02\", \"arousal.csv\")\n",
    "data = np.loadtxt(fname=file_path)\n",
    "\n",
    "np.corrcoef(data, AbsoluteAlpha)\n"
   ]
  },
  {
   "cell_type": "code",
   "execution_count": null,
   "metadata": {},
   "outputs": [],
   "source": []
  },
  {
   "cell_type": "code",
   "execution_count": null,
   "metadata": {},
   "outputs": [],
   "source": []
  }
 ],
 "metadata": {
  "kernelspec": {
   "display_name": "Python 3",
   "language": "python",
   "name": "python3"
  },
  "language_info": {
   "codemirror_mode": {
    "name": "ipython",
    "version": 3
   },
   "file_extension": ".py",
   "mimetype": "text/x-python",
   "name": "python",
   "nbconvert_exporter": "python",
   "pygments_lexer": "ipython3",
   "version": "3.7.1"
  }
 },
 "nbformat": 4,
 "nbformat_minor": 2
}

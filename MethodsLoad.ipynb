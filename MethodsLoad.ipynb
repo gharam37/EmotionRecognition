{
 "cells": [
  {
   "cell_type": "code",
   "execution_count": null,
   "metadata": {},
   "outputs": [],
   "source": []
  },
  {
   "cell_type": "code",
   "execution_count": null,
   "metadata": {
    "scrolled": true
   },
   "outputs": [
    {
     "name": "stdout",
     "output_type": "stream",
     "text": [
      "Program started \n",
      "\n",
      "Program Success \n",
      "\n",
      "Creation of the directory  failed\n"
     ]
    }
   ],
   "source": [
    "import scipy.io\n",
    "import os\n",
    "from multiprocessing import Pool\n",
    "import sys\n",
    "import numpy as np\n",
    "chan = ['Fp1','AF3','F3','F7','FC5','FC1','C3','T7','CP5','CP1','P3','P7','PO3','O1','Oz','Pz','Fp2','AF4','Fz','F4','F8','FC6','FC2','Cz','C4','T8','CP6','CP2','P4','P8','PO4','O2']\n",
    "nLabel, nTrial, nUser, nChannel, nTime  = 4, 40, 32, 32, 8064\n",
    "print(\"Program started \\n\")\n",
    "def convertData(UserNumber,TrialNumber,ChannelNumber):\n",
    "    fname = \"Data/Users/\"+UserNumber+\".mat\"\n",
    "    x = scipy.io.loadmat(fname)\n",
    "    fout_data = open(\"ChannelsExtracted/\"+UserNumber+\"/\"+str(TrialNumber)+chan[ChannelNumber]+\"featuresraw.csv\",'w')\n",
    "    for dat in range(nTime):\t\t\t\t\t\n",
    "\t    fout_data.write(str(x['data'][TrialNumber][ChannelNumber][dat])+\",\");\n",
    "\t    fout_data.write(\"\\n\");\n",
    "    fout_data.close()\n",
    "    \n",
    "def ExtractLabels(UserNumber):\n",
    "    fout_labels0 = open(\"ChannelsExtracted/\"+UserNumber+\"/\"+\"valence.csv\",'w')\n",
    "    fout_labels1 = open(\"ChannelsExtracted/\"+UserNumber+\"/\"+\" arousal.csv\",'w')\n",
    "    fout_labels2 = open(\"ChannelsExtracted/\"+UserNumber+\"/\"+\" dominance.csv\",'w')\n",
    "    fout_labels3 = open(\"ChannelsExtracted/\"+UserNumber+\"/\"+\" liking.csv\",'w')\n",
    "    fname = \"Data/Users/\"+UserNumber+\".mat\"\n",
    "    x = scipy.io.loadmat(fname)\n",
    "    for tr in range(nTrial):\n",
    "        fout_labels0.write(str(x['labels'][tr][0]) + \"\\n\");\n",
    "        fout_labels1.write(str(x['labels'][tr][1]) + \"\\n\");\n",
    "        fout_labels2.write(str(x['labels'][tr][2]) + \"\\n\");\n",
    "        fout_labels3.write(str(x['labels'][tr][3]) + \"\\n\");\n",
    "    fout_labels0.close()\n",
    "    fout_labels1.close()\n",
    "    fout_labels2.close()\n",
    "    fout_labels3.close()\n",
    "def OneUserData(UserNumber):\n",
    "    try:  \n",
    "        os.mkdir(\"ChannelsExtracted/\"+UserNumber)\n",
    "    except OSError:  \n",
    "        print (\"Creation of the directory  failed\")\n",
    "    else:  \n",
    "        print (\"Successfully created the directory \")\n",
    "    ExtractLabels(UserNumber)\n",
    "    for tr in range(nTrial):\n",
    "        for ch in range(nChannel):\n",
    "            convertData(UserNumber,tr,ch)\n",
    "    \n",
    "def AllUserData():\n",
    "    for i in range(nUser): \n",
    "        if(i%1 == 0):\n",
    "            if i < 10:\n",
    "                name = '%0*d' % (2,i+1)\n",
    "            else:\n",
    "                name = i+1\n",
    "        OneUserData(\"s\"+str(name))\n",
    "        \n",
    "print(\"Program Success \\n\")"
   ]
  },
  {
   "cell_type": "code",
   "execution_count": null,
   "metadata": {},
   "outputs": [],
   "source": []
  },
  {
   "cell_type": "code",
   "execution_count": null,
   "metadata": {},
   "outputs": [],
   "source": []
  }
 ],
 "metadata": {
  "kernelspec": {
   "display_name": "Python 3",
   "language": "python",
   "name": "python3"
  }
 },
 "nbformat": 4,
 "nbformat_minor": 2
}

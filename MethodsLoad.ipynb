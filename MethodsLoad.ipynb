{
 "cells": [
  {
   "cell_type": "code",
   "execution_count": 74,
   "metadata": {
    "scrolled": true
   },
   "outputs": [
    {
     "name": "stdout",
     "output_type": "stream",
     "text": [
      "Program started \n",
      "\n",
      "Data/Users/s01.mat\n",
      "Program Success \n",
      "\n"
     ]
    }
   ],
   "source": [
    "import scipy.io\n",
    "import os\n",
    "from multiprocessing import Pool\n",
    "import sys\n",
    "import numpy as np\n",
    "chan = ['Fp1','AF3','F3','F7','FC5','FC1','C3','T7','CP5','CP1','P3','P7','PO3','O1','Oz','Pz','Fp2','AF4','Fz','F4','F8','FC6','FC2','Cz','C4','T8','CP6','CP2','P4','P8','PO4','O2']\n",
    "nLabel, nTrial, nUser, nChannel, nTime  = 4, 40, 32, 32, 8064\n",
    "print(\"Program started \\n\")\n",
    "def convertData(UserNumber,TrialNumber,ChannelNumber):\n",
    "    fname = \"Data/Users/\"+UserNumber+\".mat\"\n",
    "    x = scipy.io.loadmat(fname)\n",
    "    fout_data = open(UserNumber+str(TrialNumber)+chan[ChannelNumber]+\"featuresraw.csv\",'w')\n",
    "    for dat in range(nTime):\t\t\t\t\t\n",
    "\t    fout_data.write(str(x['data'][TrialNumber][ChannelNumber][dat])+\",\");\n",
    "\t    fout_data.write(\"\\n\");\n",
    "    fout_data.close()\n",
    "    \n",
    "def ExtractLabels(UserNumber):\n",
    "    fout_labels0 = open(UserNumber+\" valence.csv\",'w')\n",
    "    fout_labels1 = open(UserNumber+\" arousal.csv\",'w')\n",
    "    fout_labels2 = open(UserNumber+\" dominance.csv\",'w')\n",
    "    fout_labels3 = open(UserNumber+\" liking.csv\",'w')\n",
    "    fname = \"Data/Users/\"+UserNumber+\".mat\"\n",
    "    x = scipy.io.loadmat(fname)\n",
    "    for tr in range(nTrial):\n",
    "        fout_labels0.write(str(x['labels'][tr][0]) + \"\\n\");\n",
    "        fout_labels1.write(str(x['labels'][tr][1]) + \"\\n\");\n",
    "        fout_labels2.write(str(x['labels'][tr][2]) + \"\\n\");\n",
    "        fout_labels3.write(str(x['labels'][tr][3]) + \"\\n\");\n",
    "    fout_labels0.close()\n",
    "    fout_labels1.close()\n",
    "    fout_labels2.close()\n",
    "    fout_labels3.close()\n",
    "def OneUserData(UserNumber):\n",
    "    ExtractLabels(UserNumber)\n",
    "    \n",
    "print(\"Program Success \\n\")\n",
    "if __name__ == '__main__':\n",
    "    convertData(\"s02\",0,0)\n",
    "    OneUserData(\"s02\")\n"
   ]
  },
  {
   "cell_type": "code",
   "execution_count": null,
   "metadata": {},
   "outputs": [],
   "source": []
  },
  {
   "cell_type": "code",
   "execution_count": null,
   "metadata": {},
   "outputs": [],
   "source": []
  },
  {
   "cell_type": "code",
   "execution_count": null,
   "metadata": {},
   "outputs": [],
   "source": []
  }
 ],
 "metadata": {
  "kernelspec": {
   "display_name": "Python 3",
   "language": "python",
   "name": "python3"
  },
  "language_info": {
   "codemirror_mode": {
    "name": "ipython",
    "version": 3
   },
   "file_extension": ".py",
   "mimetype": "text/x-python",
   "name": "python",
   "nbconvert_exporter": "python",
   "pygments_lexer": "ipython3",
   "version": "3.7.1"
  }
 },
 "nbformat": 4,
 "nbformat_minor": 2
}
